{
  "nbformat": 4,
  "nbformat_minor": 0,
  "metadata": {
    "colab": {
      "provenance": [],
      "authorship_tag": "ABX9TyOyFYf32T5zTwcs8ebSot02",
      "include_colab_link": true
    },
    "kernelspec": {
      "name": "python3",
      "display_name": "Python 3"
    },
    "language_info": {
      "name": "python"
    }
  },
  "cells": [
    {
      "cell_type": "markdown",
      "metadata": {
        "id": "view-in-github",
        "colab_type": "text"
      },
      "source": [
        "<a href=\"https://colab.research.google.com/github/Ayub4455/solved-problems/blob/main/Untitled0.ipynb\" target=\"_parent\"><img src=\"https://colab.research.google.com/assets/colab-badge.svg\" alt=\"Open In Colab\"/></a>"
      ]
    },
    {
      "cell_type": "code",
      "execution_count": null,
      "metadata": {
        "colab": {
          "base_uri": "https://localhost:8080/"
        },
        "id": "DlPjk3T5ZX8n",
        "outputId": "0eba8bdf-4951-4740-fbd4-8398983d8fcf"
      },
      "outputs": [
        {
          "output_type": "stream",
          "name": "stdout",
          "text": [
            "enter n value:12345\n",
            "6\n"
          ]
        }
      ],
      "source": [
        "import math\n",
        "n = int(input(\"enter n value:\"))\n",
        "last = n%10\n",
        "first = n // 10**int(math.log10(n))\n",
        "print(last+first)"
      ]
    },
    {
      "cell_type": "code",
      "source": [
        "amount=int(input())\n",
        "if amount%100 !=0:\n",
        "  print(\"Invalid amount, try again\")\n",
        "else:\n",
        "    if amount>=500:\n",
        "      f=amount//500\n",
        "      amount=amount%500\n",
        "      print(\"500-\",f)\n",
        "    if amount>=200:\n",
        "      t=amount//200\n",
        "      amount=amount%200\n",
        "      print(\"200-\",t)\n",
        "    if amount>100:\n",
        "      h=amount//100\n",
        "      amount=amount%100\n",
        "      print(\"100-\",h)"
      ],
      "metadata": {
        "colab": {
          "base_uri": "https://localhost:8080/"
        },
        "id": "cg0_WTm5bSJ2",
        "outputId": "6ec1ec1b-f772-4371-9fc7-00e490c74110"
      },
      "execution_count": null,
      "outputs": [
        {
          "output_type": "stream",
          "name": "stdout",
          "text": [
            "5000\n",
            "500- 10\n"
          ]
        }
      ]
    },
    {
      "cell_type": "code",
      "source": [
        "print(\"***canteen menu***\")\n",
        "print(\"1.water bottle - 20\")\n",
        "print(\"2.fried rice - 80\")\n",
        "print(\"3.noodles - 90\")\n",
        "option=int(input(\"Enter your option\"))\n",
        "if option==1:\n",
        "    n=int(input(\"Enter the no.of water bottles:\"))\n",
        "    bill=n*20\n",
        "elif option==2:\n",
        "    n=int(input(\"Enter the no.of fried rice:\"))\n",
        "    bill=n*80\n",
        "elif option==3:\n",
        "    n=int(input(\"Enter the no.of noodled:\"))\n",
        "    bill=n*90\n",
        "else:\n",
        "    print(\"invalid option,try again\")\n",
        "print(\"your bill is:\",bill)\n",
        "\n",
        "\n"
      ],
      "metadata": {
        "colab": {
          "base_uri": "https://localhost:8080/"
        },
        "id": "TxD9cdAEZbLl",
        "outputId": "3c619203-ebe6-4ab0-f1ab-d73f9946d596"
      },
      "execution_count": null,
      "outputs": [
        {
          "output_type": "stream",
          "name": "stdout",
          "text": [
            "***canteen menu***\n",
            "1.water bottle - 20\n",
            "2.fried rice - 80\n",
            "3.noodles - 90\n",
            "Enter your option2\n",
            "Enter the no.of fried rice:2\n",
            "your bill is: 160\n"
          ]
        }
      ]
    },
    {
      "cell_type": "code",
      "source": [
        "total_bill=0\n",
        "bill=0\n",
        "ch=input(\"Do you want to order something:\")\n",
        "while ch=='y' or ch=='y' :\n",
        "        print(\"***canteen menu***\")\n",
        "        print(\"1.water bottle - 20\")\n",
        "        print(\"2.fried rice - 80\")\n",
        "        print(\"3.noodles - 90\")\n",
        "        option=int(input(\"Enter your option\"))\n",
        "        if option==1:\n",
        "                n=int(input(\"Enter the no.of water bottles:\"))\n",
        "                bill=n*20\n",
        "        elif option==2:\n",
        "                n=int(input(\"Enter the no.of fried rice:\"))\n",
        "                bill=n*80\n",
        "        elif option==3:\n",
        "                n=int(input(\"Enter the no.of noodled:\"))\n",
        "                bill=n*90\n",
        "        else:\n",
        "                print(\"invalid option,try again\")\n",
        "                print(\"your bill is:\",bill)\n",
        "                total_bill=total_bill+bill\n",
        "                ch=input(\"Do you want to order anything more:\")\n",
        "print(\"Your total bill is:\",total_bill)\n",
        "\n"
      ],
      "metadata": {
        "colab": {
          "base_uri": "https://localhost:8080/"
        },
        "id": "sTWRKtqeabl0",
        "outputId": "9c092c75-1853-4343-e7a8-1692be99e8d2"
      },
      "execution_count": null,
      "outputs": [
        {
          "output_type": "stream",
          "name": "stdout",
          "text": [
            "Do you want to order something:2\n",
            "Your total bill is: 0\n"
          ]
        }
      ]
    },
    {
      "cell_type": "code",
      "source": [
        "n=int(input())\n",
        "n1=n2=n\n",
        "count=0\n",
        "while n1>0:\n",
        "        count=count+1\n",
        "        n1=n1//10\n",
        "sum=0\n",
        "while n2>0:\n",
        "        digit=n2%10\n",
        "        sum=sum+(digit**count)\n",
        "        count=count-1\n",
        "        n2=n2//10\n",
        "if sum==n:\n",
        "          print(n,\"is a disarium number \")\n",
        "else:\n",
        "          print(n,(\"is not a disarium number \"))\n"
      ],
      "metadata": {
        "colab": {
          "base_uri": "https://localhost:8080/"
        },
        "id": "semoaD7jabxU",
        "outputId": "1386d133-dba8-42fb-84b9-26553b1d3e5d"
      },
      "execution_count": null,
      "outputs": [
        {
          "output_type": "stream",
          "name": "stdout",
          "text": [
            "456\n",
            "456 is not a disarium number \n"
          ]
        }
      ]
    },
    {
      "cell_type": "code",
      "source": [],
      "metadata": {
        "id": "l5H-lP1oab5l"
      },
      "execution_count": null,
      "outputs": []
    }
  ]
}